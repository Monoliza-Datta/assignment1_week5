{
 "cells": [
  {
   "cell_type": "code",
   "execution_count": null,
   "id": "c04fd0a6-6c07-4678-80d1-4d495a1aeeac",
   "metadata": {},
   "outputs": [],
   "source": [
    "# Q1. What is an Exception in python? Write the difference etween Exceptions and syntax errors?"
   ]
  },
  {
   "cell_type": "code",
   "execution_count": null,
   "id": "2dd8348f-cd84-4dc7-9667-3da08abaed0c",
   "metadata": {},
   "outputs": [],
   "source": []
  },
  {
   "cell_type": "code",
   "execution_count": null,
   "id": "0a9f48c2-fe61-4ad2-ad23-ff07eedee36a",
   "metadata": {},
   "outputs": [],
   "source": [
    "# soltuion1 : "
   ]
  },
  {
   "cell_type": "code",
   "execution_count": null,
   "id": "139d9316-cbfe-4a15-a11e-5f34f115f05b",
   "metadata": {},
   "outputs": [],
   "source": [
    "# Error in Python can be of two types i.e. Syntax errors and Exceptions. \n",
    "# Errors are problems in a program due to which the program will stop the execution. \n",
    "# On the other hand, exceptions are raised when some internal events occur which change the normal flow of the program. \n",
    "\n",
    "\n",
    "# An exception is a Python object that represents an error. \n",
    "# When a Python script raises an exception, it must either handle the exception immediately otherwise it terminates and quits.\n",
    "\n",
    "\n",
    "# The difference between exception and syntax error:\n",
    "# The error implies a problem that mostly arises due to the shortage of system resources. \n",
    "# On the other hand, the exceptions occur during runtime and compile time\n",
    "# An error is an issue in a program that prevents the program from completing its task. \n",
    "# In comparison, an exception is a condition that interrupts the normal flow of the program. \n",
    "\n",
    "# Both errors and exceptions are a type of runtime error, which means they occur during the execution of a program.\n",
    "# Both exceptions and errors are the subclasses of a throwable class. "
   ]
  },
  {
   "cell_type": "code",
   "execution_count": null,
   "id": "453b1d06-1232-43cf-98cf-341eab4aa750",
   "metadata": {},
   "outputs": [],
   "source": []
  },
  {
   "cell_type": "code",
   "execution_count": null,
   "id": "b67c7475-c55a-4e1d-ab8e-3d9edca7f946",
   "metadata": {},
   "outputs": [],
   "source": []
  },
  {
   "cell_type": "code",
   "execution_count": null,
   "id": "ecb6c8e6-c9e7-415c-ac40-9bfdce168db2",
   "metadata": {},
   "outputs": [],
   "source": [
    "# Q2. What happens when an exception is not handled? Explain with an example."
   ]
  },
  {
   "cell_type": "code",
   "execution_count": null,
   "id": "3026c285-0435-491c-a30b-a3278b4eee6c",
   "metadata": {},
   "outputs": [],
   "source": []
  },
  {
   "cell_type": "code",
   "execution_count": null,
   "id": "6a3e0fb9-76d2-4086-ae1a-efef74ba72f4",
   "metadata": {},
   "outputs": [],
   "source": [
    "#solution2 :"
   ]
  },
  {
   "cell_type": "code",
   "execution_count": 17,
   "id": "9a958184-4178-4140-8d91-e02fde93b20a",
   "metadata": {},
   "outputs": [],
   "source": [
    "# if exceptions are not handled, then the program terminates abruptly and \n",
    "# the code past the line that caused the exception will not get executed."
   ]
  },
  {
   "cell_type": "code",
   "execution_count": null,
   "id": "9331de65-de37-4455-af49-8fb714a1e3e5",
   "metadata": {},
   "outputs": [],
   "source": [
    "#when an exception is not handled...."
   ]
  },
  {
   "cell_type": "code",
   "execution_count": 6,
   "id": "d4dbef88-c794-4ee4-8622-d4c44ec50d78",
   "metadata": {},
   "outputs": [
    {
     "ename": "IndentationError",
     "evalue": "unexpected indent (3133818859.py, line 2)",
     "output_type": "error",
     "traceback": [
      "\u001b[0;36m  Cell \u001b[0;32mIn[6], line 2\u001b[0;36m\u001b[0m\n\u001b[0;31m    print(list[\"key9\"])\u001b[0m\n\u001b[0m    ^\u001b[0m\n\u001b[0;31mIndentationError\u001b[0m\u001b[0;31m:\u001b[0m unexpected indent\n"
     ]
    }
   ],
   "source": [
    "list={\"name\": \"Monoliza\",\"surname\": \"Datta\"}\n",
    "    print(list[\"key9\"])"
   ]
  },
  {
   "cell_type": "code",
   "execution_count": null,
   "id": "5f2fbcd2-14d6-4321-a7c8-49d49d53a08d",
   "metadata": {},
   "outputs": [],
   "source": [
    "#when an exception is handled...."
   ]
  },
  {
   "cell_type": "code",
   "execution_count": 7,
   "id": "eab0cfaa-5b8f-4037-90a9-881b99c83613",
   "metadata": {},
   "outputs": [
    {
     "name": "stdout",
     "output_type": "stream",
     "text": [
      "'key9'\n"
     ]
    }
   ],
   "source": [
    "try:\n",
    "    list={\"name\": \"Monoliza\",\"surname\": \"Datta\"}\n",
    "    print(list[\"key9\"])\n",
    "except KeyError as e:\n",
    "    print(e)"
   ]
  },
  {
   "cell_type": "code",
   "execution_count": 21,
   "id": "edfc02e7-da37-49be-86bc-04d2d9449624",
   "metadata": {},
   "outputs": [
    {
     "name": "stdout",
     "output_type": "stream",
     "text": [
      "'str' object has no attribute 'test'\n"
     ]
    }
   ],
   "source": [
    "try:\n",
    "    \"mono\".test()\n",
    "except AttributeError as e:\n",
    "    print(e)"
   ]
  },
  {
   "cell_type": "code",
   "execution_count": null,
   "id": "d86134af-2f98-4363-8d6b-bd19eee49010",
   "metadata": {},
   "outputs": [],
   "source": []
  },
  {
   "cell_type": "code",
   "execution_count": null,
   "id": "439351fe-a5cb-483d-b98d-d79742b5f3a3",
   "metadata": {},
   "outputs": [],
   "source": []
  },
  {
   "cell_type": "code",
   "execution_count": null,
   "id": "14150e90-4267-44bd-a1e4-243ee465f4dc",
   "metadata": {},
   "outputs": [],
   "source": [
    "# Q3. Which Python statements are used to catch and handle exceptions? Explain with an example"
   ]
  },
  {
   "cell_type": "code",
   "execution_count": null,
   "id": "2a048fa7-ee1f-47fa-b089-606a648b87cf",
   "metadata": {},
   "outputs": [],
   "source": []
  },
  {
   "cell_type": "code",
   "execution_count": null,
   "id": "7559e087-478c-40f7-99af-eaab83db2de2",
   "metadata": {},
   "outputs": [],
   "source": [
    "# solution 3:"
   ]
  },
  {
   "cell_type": "code",
   "execution_count": null,
   "id": "5553378a-8a63-4c83-b461-81ab052657f4",
   "metadata": {},
   "outputs": [],
   "source": [
    "# The try and except block in Python is used to catch and handle exceptions.\n",
    "# Python executes code following the try statement as a “normal” part of the program. \n",
    "# The code that follows the except statement is the program's response to any exceptions in the preceding try clause."
   ]
  },
  {
   "cell_type": "code",
   "execution_count": 10,
   "id": "9af26618-a4ae-4e3b-84a4-a7500dcbd05d",
   "metadata": {},
   "outputs": [
    {
     "name": "stdout",
     "output_type": "stream",
     "text": [
      "this will be printed owhen it will detect error in the code\n"
     ]
    }
   ],
   "source": [
    "try:\n",
    "    f = open(\"test.txt\",\"r\")\n",
    "    f.write(\"write into my file\")\n",
    "except Exception as e:\n",
    "    print(\"this will be printed owhen it will detect error in the code\")\n",
    "else:\n",
    "    f.close()\n",
    "    print(\"if the system doesnot detect any error in the first, then this line will be executed.\")\n",
    "\n",
    "    "
   ]
  },
  {
   "cell_type": "code",
   "execution_count": null,
   "id": "e0dee441-070e-424e-a2fa-7f6cc994d997",
   "metadata": {},
   "outputs": [],
   "source": []
  },
  {
   "cell_type": "code",
   "execution_count": null,
   "id": "4a0836ca-d99f-4d9c-aa84-0991ec72a898",
   "metadata": {},
   "outputs": [],
   "source": []
  },
  {
   "cell_type": "code",
   "execution_count": null,
   "id": "020c0e65-eb6c-4dd1-af75-efd2c0535a1f",
   "metadata": {},
   "outputs": [],
   "source": [
    "# Q4. Explain with an example: a) try and else b) finally c) raise"
   ]
  },
  {
   "cell_type": "code",
   "execution_count": null,
   "id": "8bebcaac-64b5-4398-b4ff-12d942489830",
   "metadata": {},
   "outputs": [],
   "source": []
  },
  {
   "cell_type": "code",
   "execution_count": null,
   "id": "ceea0b27-fc6d-4ab0-9766-db209ca041b7",
   "metadata": {},
   "outputs": [],
   "source": [
    "# soltuion4 :"
   ]
  },
  {
   "cell_type": "code",
   "execution_count": null,
   "id": "2bc3d2fc-1cb7-4eef-9cb4-94e575aa12a2",
   "metadata": {},
   "outputs": [],
   "source": [
    "# Try: This block will test the excepted error to occur\n",
    "\n",
    "# Except:  Here you can handle the error\n",
    "\n",
    "# Else: If there is no exception then this block will be executed\n",
    "\n",
    "# Finally: Finally block always gets executed either exception is generated or no"
   ]
  },
  {
   "cell_type": "code",
   "execution_count": 12,
   "id": "b4add866-4195-4c07-8192-c0fd3443623c",
   "metadata": {},
   "outputs": [
    {
     "name": "stdout",
     "output_type": "stream",
     "text": [
      "Sorry ! You are dividing by zero \n"
     ]
    }
   ],
   "source": [
    "try:\n",
    "    division =10\n",
    "    division/0\n",
    "except ZeroDivisionError:\n",
    "    print(\"Sorry ! You are dividing by zero \")"
   ]
  },
  {
   "cell_type": "code",
   "execution_count": 26,
   "id": "33d43688-7d99-480f-9716-36ab1ee10e1e",
   "metadata": {},
   "outputs": [],
   "source": [
    "def divide(x,y):\n",
    "    try:\n",
    "        result = x//y\n",
    "    except ZeroDivisionError:\n",
    "        print(\"Sorry you're dividing by zero!!\")\n",
    "        \n",
    "    else: \n",
    "        print(\"Ok! Your answer is: \", result)"
   ]
  },
  {
   "cell_type": "code",
   "execution_count": 27,
   "id": "60d1e70f-cf5a-462e-a7ee-d63f5dc18952",
   "metadata": {},
   "outputs": [
    {
     "name": "stdout",
     "output_type": "stream",
     "text": [
      "Ok! Your answer is:  2\n"
     ]
    }
   ],
   "source": [
    "divide(10,5)"
   ]
  },
  {
   "cell_type": "code",
   "execution_count": 28,
   "id": "f23d3f2c-6364-43e3-9f79-eb747287606e",
   "metadata": {},
   "outputs": [
    {
     "name": "stdout",
     "output_type": "stream",
     "text": [
      "Sorry you're dividing by zero!!\n"
     ]
    }
   ],
   "source": [
    "divide(40,0)"
   ]
  },
  {
   "cell_type": "code",
   "execution_count": 29,
   "id": "00eed398-61b3-4173-b9a8-f5830491c779",
   "metadata": {},
   "outputs": [],
   "source": [
    "def divide(x,y):\n",
    "    try:\n",
    "        result = x//y\n",
    "    except ZeroDivisionError:\n",
    "        print(\"Sorry you're dividing by zero!!\")\n",
    "        \n",
    "    else: \n",
    "        print(\"Ok! Your answer is: \", result)\n",
    "    finally: \n",
    "        print(\"This is what we've got.\")"
   ]
  },
  {
   "cell_type": "code",
   "execution_count": 30,
   "id": "57cb72ae-2ca5-40d5-b540-238ec23ef0e5",
   "metadata": {},
   "outputs": [
    {
     "name": "stdout",
     "output_type": "stream",
     "text": [
      "Ok! Your answer is:  5\n",
      "This is what we've got.\n"
     ]
    }
   ],
   "source": [
    "divide(20,4)"
   ]
  },
  {
   "cell_type": "code",
   "execution_count": 34,
   "id": "f2de49f9-351b-4844-862b-b9f3823211d0",
   "metadata": {},
   "outputs": [
    {
     "name": "stdout",
     "output_type": "stream",
     "text": [
      "An error occurred: Age must be 18 or above.\n"
     ]
    }
   ],
   "source": [
    "def check_age(age):  \n",
    "    if age < 18:  \n",
    "        raise Exception(\"Age must be 18 or above.\")  \n",
    "    else:  \n",
    "        print(\"Age is valid.\")  \n",
    "try:  \n",
    "    check_age(17)\n",
    "except Exception as e:  \n",
    "    print(\"An error occurred:\", e)  "
   ]
  },
  {
   "cell_type": "code",
   "execution_count": null,
   "id": "45407663-76af-4d04-aa46-97b55084802f",
   "metadata": {},
   "outputs": [],
   "source": []
  },
  {
   "cell_type": "code",
   "execution_count": null,
   "id": "07b20dfa-b27e-47f8-a836-fa8630f904fa",
   "metadata": {},
   "outputs": [],
   "source": []
  },
  {
   "cell_type": "code",
   "execution_count": null,
   "id": "c40491fa-5013-454c-8b83-c99e2bac0c4f",
   "metadata": {},
   "outputs": [],
   "source": [
    "# Q5. What are Custom Exceptions in python? Why do we need Custom Exceptions? Explain with an example."
   ]
  },
  {
   "cell_type": "code",
   "execution_count": null,
   "id": "9dbe735e-b833-4b53-9772-eff912b61d40",
   "metadata": {},
   "outputs": [],
   "source": []
  },
  {
   "cell_type": "code",
   "execution_count": null,
   "id": "e012e6b8-d6cc-4299-9d60-6761a4cf92c2",
   "metadata": {},
   "outputs": [],
   "source": [
    "#solution 5 :"
   ]
  },
  {
   "cell_type": "code",
   "execution_count": null,
   "id": "bf6a63cc-620f-436a-becd-5b391752a84a",
   "metadata": {},
   "outputs": [],
   "source": [
    "# Like standard exception classes, custom exceptions are also classes. \n",
    "# Hence, we can add functionality to the custom exception classes like: Adding attributes and properties. \n",
    "# Adding methods e.g., log the exception, format the output, etc.\n",
    "\n",
    "# In Python, we can create a custom exception by defining a new class \n",
    "# that inherits from the built-in `Exception` class or one of its subclasses.\n",
    "# To raise the custom exception, we can use the `raise` keyword followed by an instance of our custom exception class."
   ]
  },
  {
   "cell_type": "code",
   "execution_count": null,
   "id": "a7f35d3a-38fc-4fc6-8f3c-eb05b5968bb3",
   "metadata": {},
   "outputs": [],
   "source": [
    "# custom exceptions add information about project-related problems. \n",
    "# That way, we can design our code (and traceback, if an exception is raised) in a way\n",
    "# that combines Python code with the language of the project.\n",
    "\n",
    "# Custom exceptions provide you the flexibility to add attributes and methods. \n",
    "# These can store additional information, like an application-specific error code, or provide utility methods \n",
    "# that can be used to handle or present the exception to a user."
   ]
  },
  {
   "cell_type": "code",
   "execution_count": 35,
   "id": "235c14b5-fd29-4526-ba17-9b8f029c2593",
   "metadata": {},
   "outputs": [
    {
     "name": "stdout",
     "output_type": "stream",
     "text": [
      "This is my custom exception\n"
     ]
    }
   ],
   "source": [
    "class CustomException(Exception):\n",
    "    \"\"\" my custom exception class \"\"\"\n",
    "\n",
    "try:\n",
    "    raise CustomException('This is my custom exception')\n",
    "except CustomException as ex:\n",
    "    print(ex)"
   ]
  },
  {
   "cell_type": "code",
   "execution_count": null,
   "id": "76d58bcf-ab78-4f1e-ad38-a53810b32c61",
   "metadata": {},
   "outputs": [],
   "source": []
  },
  {
   "cell_type": "code",
   "execution_count": null,
   "id": "ed1aae50-009d-4902-b00e-2f392b79089d",
   "metadata": {},
   "outputs": [],
   "source": []
  },
  {
   "cell_type": "code",
   "execution_count": null,
   "id": "92295b55-5aba-432a-945d-43666785cea6",
   "metadata": {},
   "outputs": [],
   "source": [
    "#Q6. Create a custom exception class. Use this class to handle an exception."
   ]
  },
  {
   "cell_type": "code",
   "execution_count": null,
   "id": "0d0de8d0-d598-4bd7-83e5-510a320b5890",
   "metadata": {},
   "outputs": [],
   "source": []
  },
  {
   "cell_type": "code",
   "execution_count": null,
   "id": "d6b58376-e67c-4ade-b8e2-824ed5bec5c8",
   "metadata": {},
   "outputs": [],
   "source": [
    "# solution 6:"
   ]
  },
  {
   "cell_type": "code",
   "execution_count": 1,
   "id": "9ee1b953-71b1-406e-8a69-8fbfb198aab2",
   "metadata": {},
   "outputs": [],
   "source": [
    "class eligible_voters(Exception):\n",
    "    \n",
    "    def __init__(self, vote):\n",
    "        self.vote = vote"
   ]
  },
  {
   "cell_type": "code",
   "execution_count": 2,
   "id": "935d24f8-f58b-475e-9fd5-d06ce97377bf",
   "metadata": {},
   "outputs": [],
   "source": [
    "def elivoters(age):\n",
    "    if age < 18 :\n",
    "        raise eligible_voters(\"not eligible to vote\")\n",
    "    elif age >= 18:\n",
    "        raise eligible_voters(\"eligible to vote!\")"
   ]
  },
  {
   "cell_type": "code",
   "execution_count": 4,
   "id": "39781d23-0623-41aa-a29a-f43358592d9d",
   "metadata": {},
   "outputs": [
    {
     "name": "stdin",
     "output_type": "stream",
     "text": [
      "enter your age 18\n"
     ]
    },
    {
     "name": "stdout",
     "output_type": "stream",
     "text": [
      "eligible to vote!\n"
     ]
    }
   ],
   "source": [
    "try:\n",
    "    age = int(input(\"enter your age\"))\n",
    "    elivoters(age)\n",
    "except eligible_voters as e:\n",
    "    print(e)"
   ]
  },
  {
   "cell_type": "code",
   "execution_count": null,
   "id": "7795308c-4aba-48d3-bf20-535ae42d1665",
   "metadata": {},
   "outputs": [],
   "source": []
  },
  {
   "cell_type": "code",
   "execution_count": null,
   "id": "71c4f251-31c5-449f-98ef-08eef80c87ff",
   "metadata": {},
   "outputs": [],
   "source": []
  }
 ],
 "metadata": {
  "kernelspec": {
   "display_name": "Python 3 (ipykernel)",
   "language": "python",
   "name": "python3"
  },
  "language_info": {
   "codemirror_mode": {
    "name": "ipython",
    "version": 3
   },
   "file_extension": ".py",
   "mimetype": "text/x-python",
   "name": "python",
   "nbconvert_exporter": "python",
   "pygments_lexer": "ipython3",
   "version": "3.10.8"
  }
 },
 "nbformat": 4,
 "nbformat_minor": 5
}
